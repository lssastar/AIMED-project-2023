{
 "cells": [
  {
   "cell_type": "code",
   "execution_count": 1,
   "metadata": {},
   "outputs": [],
   "source": [
    "## 进行数据集的划分：train, val, test"
   ]
  },
  {
   "cell_type": "code",
   "execution_count": 1,
   "metadata": {},
   "outputs": [],
   "source": [
    "import os\n",
    "import shutil\n",
    "import numpy as np"
   ]
  },
  {
   "cell_type": "code",
   "execution_count": 2,
   "metadata": {},
   "outputs": [],
   "source": [
    "# Seed for reproducible random splits\n",
    "np.random.seed(42)"
   ]
  },
  {
   "cell_type": "code",
   "execution_count": 3,
   "metadata": {},
   "outputs": [],
   "source": [
    "# Define source directory and target directory\n",
    "source_dir = 'D:/Data/ADNI2T1/classes/'\n",
    "target_dir = 'BinetDataset'\n",
    "\n",
    "# Create the new directory structure\n",
    "# os.makedirs creates a directory, and all parent/intermediate directories necessary.\n",
    "# exist_ok=True allows the creation of the directory if it does not exist, without raising an error.\n",
    "os.makedirs(target_dir, exist_ok=True)\n",
    "for split in ['training', 'validation', 'testing']:\n",
    "    for class_name in ['AD', 'CN']:\n",
    "        os.makedirs(os.path.join(target_dir, split, class_name), exist_ok=True)"
   ]
  },
  {
   "cell_type": "code",
   "execution_count": 4,
   "metadata": {},
   "outputs": [
    {
     "name": "stdout",
     "output_type": "stream",
     "text": [
      "Data split and copied to new directory structure.\n"
     ]
    }
   ],
   "source": [
    "# Explicitly iterate through known class names\n",
    "for class_name in ['AD', 'CN']:\n",
    "    class_dir = os.path.join(source_dir, class_name)  # os.path.join constructs a pathname out of one or more partial pathnames\n",
    "    if os.path.isdir(class_dir):  # os.path.isdir checks whether the specified path is an existing directory\n",
    "        # Get all image filenames in the class directory\n",
    "        # os.listdir returns a list containing the names of the entries in the directory given by path\n",
    "        images = [f for f in os.listdir(class_dir) if os.path.isfile(os.path.join(class_dir, f))]\n",
    "        np.random.shuffle(images)  # Randomly shuffle the list of image filenames\n",
    "\n",
    "        # Calculate the split points for training, validation, and testing data\n",
    "        total_images = len(images)\n",
    "        train_split = int(0.8 * total_images) # 80% of the data is used for training\n",
    "        val_split = int(0.9 * total_images) # 10% of the data is used for validation\n",
    "\n",
    "        # Split the data and copy to the new directory structure\n",
    "        for i, image in enumerate(images):\n",
    "            src_path = os.path.join(class_dir, image)  # Construct the source path of the image\n",
    "            if i < train_split:\n",
    "                dst_path = os.path.join(target_dir, 'training', class_name, image)  # Construct the destination path of the image in training set\n",
    "            elif i < val_split:\n",
    "                dst_path = os.path.join(target_dir, 'validation', class_name, image)  # Construct the destination path of the image in validation set\n",
    "            else:\n",
    "                dst_path = os.path.join(target_dir, 'testing', class_name, image)  # Construct the destination path of the image in testing set\n",
    "            shutil.copy(src_path, dst_path)  # shutil.copy copies the file src to the file or directory dst\n",
    "\n",
    "print(\"Data split and copied to new directory structure.\")"
   ]
  },
  {
   "cell_type": "code",
   "execution_count": null,
   "metadata": {},
   "outputs": [],
   "source": []
  }
 ],
 "metadata": {
  "kernelspec": {
   "display_name": "AIMED",
   "language": "python",
   "name": "python3"
  },
  "language_info": {
   "codemirror_mode": {
    "name": "ipython",
    "version": 3
   },
   "file_extension": ".py",
   "mimetype": "text/x-python",
   "name": "python",
   "nbconvert_exporter": "python",
   "pygments_lexer": "ipython3",
   "version": "3.9.18"
  }
 },
 "nbformat": 4,
 "nbformat_minor": 2
}
