{
 "cells": [
  {
   "cell_type": "code",
   "execution_count": null,
   "metadata": {},
   "outputs": [],
   "source": [
    "######################### Use CNN to classify the images #########################\n",
    "######################### 使用Alexnet进行迁移学习 #########################\n",
    "import torch\n",
    "import torch.nn as nn\n",
    "import torch.optim as optim\n",
    "from torch.utils.data import DataLoader, TensorDataset\n",
    "from torchvision import transforms, datasets\n",
    "import torchvision.models as models\n",
    "import matplotlib.pyplot as plt\n",
    "import os\n",
    "import numpy as np\n",
    "%matplotlib inline\n",
    "\n",
    "# Constants\n",
    "IMG_WIDTH, IMG_HEIGHT = 512, 512\n",
    "NUM_CLASSES = 4  # Adjust based on your classes\n",
    "BATCH_SIZE = 2\n",
    "EPOCHS = 50 \n",
    "LEARNING_RATE = 0.001\n",
    "# Check if GPU is available\n",
    "device = torch.device(\"cuda\" if torch.cuda.is_available() else \"cpu\")\n"
   ]
  }
 ],
 "metadata": {
  "kernelspec": {
   "display_name": "AIMED",
   "language": "python",
   "name": "python3"
  },
  "language_info": {
   "name": "python",
   "version": "3.9.18"
  }
 },
 "nbformat": 4,
 "nbformat_minor": 2
}
